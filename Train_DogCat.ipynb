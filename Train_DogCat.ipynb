{
 "cells": [
  {
   "cell_type": "markdown",
   "id": "bcd0d5f7-9820-455a-83c8-6f7d1fd9c028",
   "metadata": {},
   "source": [
    "# Project overview \n",
    "Fine-tune a ResNet18 to classify cats and dogs\n",
    "Steps: \n",
    "1. Split data\n",
    "2. Build loaders\n",
    "3. Train with early stopping\n",
    "4. Export best model\n",
    "5. Launch a Gradio demo"
   ]
  },
  {
   "cell_type": "code",
   "execution_count": 1,
   "id": "bf7f310a-cbf1-4d82-9b43-a68af5721361",
   "metadata": {},
   "outputs": [],
   "source": [
    "# Import Libraries \n",
    "import os\n",
    "import shutil\n",
    "import random\n",
    "import torch\n",
    "import torch.nn as nn\n",
    "import torch.nn.functional as F\n",
    "import torch.optim as optim\n",
    "from torch.utils.data import Dataset, DataLoader, random_split  \n",
    "from torchvision import datasets, transforms\n",
    "from PIL import Image\n",
    "import matplotlib.pyplot as plt\n",
    "import gradio as gr\n",
    "from torchvision import models"
   ]
  },
  {
   "cell_type": "markdown",
   "id": "0b9149d5-9574-45ce-9d06-545e5d67f165",
   "metadata": {},
   "source": [
    "# Data preparation\n",
    "Input is a single folder, files are named like catXXXX.jpeg and dogXXXX.jpeg  \n",
    "We split into train and validation once and reuse the split on future runs"
   ]
  },
  {
   "cell_type": "code",
   "execution_count": 3,
   "id": "100665ca-827f-4188-836c-0edde0d3fe05",
   "metadata": {},
   "outputs": [
    {
     "name": "stdout",
     "output_type": "stream",
     "text": [
      "Output_data already exists. Skipping split.\n"
     ]
    }
   ],
   "source": [
    "original_dir = '/Users/rimona/Desktop/dataset/catdog/train'  \n",
    "output_dir   = 'output_data'                              \n",
    "train_ratio  = 0.8                                        \n",
    "\n",
    "# Only run if output_data doesn't already exist \n",
    "if not os.path.exists(output_dir):\n",
    "\n",
    "    # Make train/val subfolders for cats and dogs \n",
    "    for split in ['train', 'val']:\n",
    "        for cls in ['cats', 'dogs']:\n",
    "            os.makedirs(os.path.join(output_dir, split, cls), exist_ok=True)\n",
    "\n",
    "    # Separate cat and dog filenames \n",
    "    all_images = os.listdir(original_dir)\n",
    "    cat_images = [f for f in all_images if f.startswith('cat')]\n",
    "    dog_images = [f for f in all_images if f.startswith('dog')]\n",
    "\n",
    "    # Shuffle so split is random but reproducible \n",
    "    random.seed(42)\n",
    "    random.shuffle(cat_images)\n",
    "    random.shuffle(dog_images)\n",
    "\n",
    "    # Function: split into train/val and copy to folders\n",
    "    def split_and_copy(files, cls, ratio=train_ratio):\n",
    "        n_train = int(len(files) * ratio)  # number for training set\n",
    "        train_files = files[:n_train]\n",
    "        val_files   = files[n_train:]\n",
    "\n",
    "        for f in train_files:\n",
    "            shutil.copy(os.path.join(original_dir, f),\n",
    "                        os.path.join(output_dir, 'train', cls))\n",
    "        for f in val_files:\n",
    "            shutil.copy(os.path.join(original_dir, f),\n",
    "                        os.path.join(output_dir, 'val', cls))\n",
    "\n",
    "    # Do the split for both cats and dogs \n",
    "    split_and_copy(cat_images, 'cats')\n",
    "    split_and_copy(dog_images, 'dogs')\n",
    "\n",
    "    print('Dataset split complete')\n",
    "\n",
    "else:\n",
    "    print('Output_data already exists. Skipping split.')\n"
   ]
  },
  {
   "cell_type": "code",
   "execution_count": 5,
   "id": "3042e922-9b4a-47d4-a886-368e9fff9d92",
   "metadata": {},
   "outputs": [
    {
     "name": "stdout",
     "output_type": "stream",
     "text": [
      "Counts: train cats 10000 train dogs 10000 val cats 2500 val dogs 2500\n"
     ]
    }
   ],
   "source": [
    "# Counts\n",
    "def count(p): return len(os.listdir(p))\n",
    "print(\"Counts:\",\n",
    "      \"train cats\", count('output_data/train/cats'),\n",
    "      \"train dogs\", count('output_data/train/dogs'),\n",
    "      \"val cats\",   count('output_data/val/cats'),\n",
    "      \"val dogs\",   count('output_data/val/dogs'))\n"
   ]
  },
  {
   "cell_type": "code",
   "execution_count": 7,
   "id": "2b311d5b-f46b-42e4-ae48-c61202fe2dde",
   "metadata": {},
   "outputs": [
    {
     "name": "stdout",
     "output_type": "stream",
     "text": [
      "Device: mps\n"
     ]
    }
   ],
   "source": [
    "device = (\n",
    "    torch.device(\"cuda\") if torch.cuda.is_available()\n",
    "    else torch.device(\"mps\") if hasattr(torch.backends, \"mps\") and torch.backends.mps.is_available()\n",
    "    else torch.device(\"cpu\")\n",
    ")\n",
    "print(\"Device:\", device)"
   ]
  },
  {
   "cell_type": "markdown",
   "id": "4a0261ae-3ec4-4559-999b-bacffdabb635",
   "metadata": {},
   "source": [
    "# Training setup\n",
    "Train transform adds light augments, val is resize only  \n",
    "Loaders use ImageFolder from `output_data/train` and `output_data/val` with batch size 32; train shuffles \n",
    "ResNet18 pretrained, backbone frozen, final layer set to 2 classes, moved to device\n",
    "Loss is CrossEntropy, optimizer is Adam on the head (lr 1e-3, weight decay 1e-4) \n",
    "Early stopping: 10 epochs max, track best validation loss with patience 3"
   ]
  },
  {
   "cell_type": "code",
   "execution_count": 9,
   "id": "3f14adce-dbdd-42b0-85be-04be7c621a06",
   "metadata": {},
   "outputs": [],
   "source": [
    "train_transform = transforms.Compose([\n",
    "    transforms.Resize((224, 224)),\n",
    "    transforms.RandomHorizontalFlip(),\n",
    "    transforms.RandomRotation(10),\n",
    "    transforms.ColorJitter(brightness=0.2, contrast=0.2, saturation=0.2, hue=0.05),\n",
    "    transforms.ToTensor()\n",
    "])\n",
    "\n",
    "val_transform = transforms.Compose([\n",
    "    transforms.Resize((224, 224)),\n",
    "    transforms.ToTensor()\n",
    "])\n",
    "\n",
    "\n",
    "train_data = datasets.ImageFolder(\"output_data/train\", transform=train_transform)\n",
    "val_data   = datasets.ImageFolder(\"output_data/val\", transform=val_transform)\n",
    "\n",
    "train_loader = DataLoader(train_data, batch_size=32, shuffle=True)\n",
    "val_loader   = DataLoader(val_data, batch_size=32)"
   ]
  },
  {
   "cell_type": "code",
   "execution_count": 13,
   "id": "d132417f-da10-4db0-be50-18d377011615",
   "metadata": {},
   "outputs": [],
   "source": [
    "# Load pretrained ResNet18\n",
    "\n",
    "weights = models.ResNet18_Weights.DEFAULT\n",
    "model = models.resnet18(weights=weights)\n",
    "\n",
    "# Freeze all layers\n",
    "for param in model.parameters():\n",
    "    param.requires_grad = False\n",
    "\n",
    "# Replace the classifier for 2 classes\n",
    "num_ftrs = model.fc.in_features\n",
    "model.fc = nn.Linear(num_ftrs, 2)\n",
    "model = model.to(device)\n",
    "\n",
    "# Loss & optimizer\n",
    "criterion = nn.CrossEntropyLoss()\n",
    "optimizer = optim.Adam(model.fc.parameters(), lr=0.001, weight_decay=1e-4)\n"
   ]
  },
  {
   "cell_type": "code",
   "execution_count": null,
   "id": "3c633e63-5c48-42f1-8e29-3caa09817ef8",
   "metadata": {},
   "outputs": [],
   "source": [
    "criterion = nn.CrossEntropyLoss()\n",
    "optimizer = optim.Adam(model.fc.parameters(), lr=1e-3, weight_decay=1e-4)\n",
    "\n",
    "patience = 3\n",
    "bad_epochs = 0\n",
    "epochs = 10\n",
    "best_val_loss = float('inf')\n"
   ]
  },
  {
   "cell_type": "markdown",
   "id": "8de728e2-5d87-48c6-9bb2-29fe45db4062",
   "metadata": {},
   "source": [
    "# Training and validation\n",
    "Per epoch:\n",
    "1. Train on mini-batches and update only the head\n",
    "2. Evaluate on validation without updating weights\n",
    "3. Save the best model by validation loss\n"
   ]
  },
  {
   "cell_type": "code",
   "execution_count": 21,
   "id": "e8cab1d7-840e-4209-9896-21c9b2c67387",
   "metadata": {},
   "outputs": [
    {
     "name": "stdout",
     "output_type": "stream",
     "text": [
      "Epoch 01/10 | Train Loss: 0.1020 | Train Acc: 0.9596 | Val Loss: 0.0599 | Val Acc: 0.9776\n",
      "Epoch 02/10 | Train Loss: 0.0961 | Train Acc: 0.9639 | Val Loss: 0.0583 | Val Acc: 0.9778\n",
      "Epoch 03/10 | Train Loss: 0.0949 | Train Acc: 0.9629 | Val Loss: 0.0636 | Val Acc: 0.9752\n",
      "Epoch 04/10 | Train Loss: 0.0890 | Train Acc: 0.9660 | Val Loss: 0.0732 | Val Acc: 0.9704\n",
      "Epoch 05/10 | Train Loss: 0.0919 | Train Acc: 0.9625 | Val Loss: 0.0672 | Val Acc: 0.9732\n",
      "Early stopping at epoch 5 (best val loss 0.0583)\n",
      "Done. Best model saved to best_model_dogcat.pt\n"
     ]
    }
   ],
   "source": [
    "# Training\n",
    "for epoch in range(1, epochs + 1):\n",
    "    model.train()\n",
    "    running_loss, correct, total = 0.0, 0, 0\n",
    "\n",
    "    for images, labels in train_loader:\n",
    "        images, labels = images.to(device), labels.to(device)\n",
    "\n",
    "        optimizer.zero_grad()\n",
    "        outputs = model(images)\n",
    "        loss = criterion(outputs, labels)\n",
    "        loss.backward()\n",
    "        optimizer.step()\n",
    "\n",
    "        running_loss += loss.item()\n",
    "        _, preds = outputs.max(1)\n",
    "        correct += (preds == labels).sum().item()\n",
    "        total += labels.size(0)\n",
    "\n",
    "    train_loss = running_loss / max(1, len(train_loader))\n",
    "    train_acc  = correct / max(1, total)\n",
    "    \n",
    "# Validation \n",
    "    model.eval()\n",
    "    val_running, v_correct, v_total = 0.0, 0, 0\n",
    "    with torch.no_grad():\n",
    "        for images, labels in val_loader:\n",
    "            images, labels = images.to(device), labels.to(device)\n",
    "            outputs = model(images)\n",
    "            loss = criterion(outputs, labels)\n",
    "            val_running += loss.item()\n",
    "            _, preds = outputs.max(1)\n",
    "            v_correct += (preds == labels).sum().item()\n",
    "            v_total += labels.size(0)\n",
    "\n",
    "    val_loss = val_running / max(1, len(val_loader))\n",
    "    val_acc  = v_correct / max(1, v_total)\n",
    "\n",
    "    print(f\"Epoch {epoch:02d}/{epochs} | \"\n",
    "          f\"Train Loss: {train_loss:.4f} | Train Acc: {train_acc:.4f} | \"\n",
    "          f\"Val Loss: {val_loss:.4f} | Val Acc: {val_acc:.4f}\")\n",
    "\n",
    "    # Early stopping \n",
    "    if val_loss < best_val_loss - 1e-4:\n",
    "        best_val_loss = val_loss\n",
    "        bad_epochs = 0\n",
    "        torch.save(model.state_dict(), 'best_model_dogcat.pt')\n",
    "    else:\n",
    "        bad_epochs += 1\n",
    "        if bad_epochs >= patience:\n",
    "            print(f\"Early stopping at epoch {epoch} (best val loss {best_val_loss:.4f})\")\n",
    "            break\n",
    "\n",
    "print(\"Done. Best model saved to best_model_dogcat.pt\")\n"
   ]
  },
  {
   "cell_type": "markdown",
   "id": "01705cbd-4b3a-494d-ace2-fb71b70c7d39",
   "metadata": {},
   "source": [
    "# Metrics and confusion matrix \n",
    "Confusion matrix helps see which class is misclassified more often\n",
    "The model predicts “dog” more often even though classes are balanced."
   ]
  },
  {
   "cell_type": "code",
   "execution_count": 23,
   "id": "11c4fd84-d09c-4e4a-99a7-4f2391f3f540",
   "metadata": {},
   "outputs": [
    {
     "data": {
      "image/png": "[encoded data removed]",
      "text/plain": [
       "<Figure size 640x480 with 2 Axes>"
      ]
     },
     "metadata": {},
     "output_type": "display_data"
    }
   ],
   "source": [
    "from sklearn.metrics import confusion_matrix, ConfusionMatrixDisplay\n",
    "import matplotlib.pyplot as plt\n",
    "import numpy as np\n",
    "\n",
    "# 1. Make predictions on the validation set\n",
    "all_preds = []\n",
    "all_labels = []\n",
    "\n",
    "with torch.no_grad():\n",
    "    for images, labels in val_loader:\n",
    "        images = images.to(device)\n",
    "        outputs = model(images)\n",
    "        _, preds = torch.max(outputs, 1)\n",
    "\n",
    "        all_preds.extend(preds.cpu().numpy())\n",
    "        all_labels.extend(labels.numpy())\n",
    "\n",
    "# 2. Create confusion matrix\n",
    "cm = confusion_matrix(all_labels, all_preds)\n",
    "\n",
    "# 3. Display confusion matrix\n",
    "disp = ConfusionMatrixDisplay(confusion_matrix=cm, display_labels=val_data.classes)\n",
    "disp.plot(cmap='Reds')\n",
    "plt.title(\"Confusion Matrix - Best Model (Epoch 2)\")\n",
    "plt.show()\n"
   ]
  }
 ],
 "metadata": {
  "kernelspec": {
   "display_name": "Python 3 (ipykernel)",
   "language": "python",
   "name": "python3"
  },
  "language_info": {
   "codemirror_mode": {
    "name": "ipython",
    "version": 3
   },
   "file_extension": ".py",
   "mimetype": "text/x-python",
   "name": "python",
   "nbconvert_exporter": "python",
   "pygments_lexer": "ipython3",
   "version": "3.12.4"
  }
 },
 "nbformat": 4,
 "nbformat_minor": 5
}
